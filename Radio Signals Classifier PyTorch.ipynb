{
 "cells": [
  {
   "cell_type": "markdown",
   "id": "277f2216",
   "metadata": {},
   "source": [
    "# Imports "
   ]
  },
  {
   "cell_type": "code",
   "execution_count": null,
   "id": "6dc1dbac-99d9-4751-b876-33b8edd72088",
   "metadata": {},
   "outputs": [],
   "source": [
    "! pip install numpy"
   ]
  },
  {
   "cell_type": "code",
   "execution_count": null,
   "id": "03784e21-de5a-4fd7-997c-9d3547cacd3d",
   "metadata": {},
   "outputs": [],
   "source": [
    "!pip install pandas"
   ]
  },
  {
   "cell_type": "code",
   "execution_count": null,
   "id": "e4790e61-d176-4da5-a9cb-9d5adf6fdc57",
   "metadata": {
    "scrolled": true
   },
   "outputs": [],
   "source": [
    "!pip install matplotlib"
   ]
  },
  {
   "cell_type": "code",
   "execution_count": null,
   "id": "42ba7450-7943-4972-a78a-53702a6decae",
   "metadata": {},
   "outputs": [],
   "source": [
    "!pip install torch"
   ]
  },
  {
   "cell_type": "code",
   "execution_count": null,
   "id": "f15cee81-0627-4849-bb1a-29437e324abd",
   "metadata": {},
   "outputs": [],
   "source": [
    "!pip install torchvision"
   ]
  },
  {
   "cell_type": "code",
   "execution_count": null,
   "id": "292e7348-27be-4c4b-bc15-11a118986cc8",
   "metadata": {},
   "outputs": [],
   "source": [
    "!pip install timm"
   ]
  },
  {
   "cell_type": "code",
   "execution_count": 1,
   "id": "5755330f",
   "metadata": {},
   "outputs": [],
   "source": [
    "import numpy as np \n",
    "import pandas as pd \n",
    "import matplotlib.pyplot as plt \n",
    "\n",
    "import torch \n",
    "from torch import nn, optim \n",
    "from torch.utils.data import Dataset, DataLoader \n",
    "\n",
    "from torchvision import transforms as T\n",
    "\n",
    "import timm"
   ]
  },
  {
   "cell_type": "markdown",
   "id": "8a82f356",
   "metadata": {},
   "source": [
    "![](Untitled-design.png)"
   ]
  },
  {
   "cell_type": "markdown",
   "id": "259e134b",
   "metadata": {},
   "source": [
    "# Configurations"
   ]
  },
  {
   "cell_type": "code",
   "execution_count": 2,
   "id": "3438e8bd",
   "metadata": {},
   "outputs": [],
   "source": [
    "TRAIN_CSV=\"train.csv\"\n",
    "VALID_CSV=\"valid.csv\"\n",
    "\n",
    "BATCH_SIZE=128\n",
    "DEVICE=\"cpu\"\n",
    "\n",
    "MODEL_NAME=\"efficientnet_b0\"\n",
    "\n",
    "LR=0.001\n",
    "EPOCHS=15"
   ]
  },
  {
   "cell_type": "code",
   "execution_count": 3,
   "id": "ae556678",
   "metadata": {},
   "outputs": [
    {
     "data": {
      "text/html": [
       "<div>\n",
       "<style scoped>\n",
       "    .dataframe tbody tr th:only-of-type {\n",
       "        vertical-align: middle;\n",
       "    }\n",
       "\n",
       "    .dataframe tbody tr th {\n",
       "        vertical-align: top;\n",
       "    }\n",
       "\n",
       "    .dataframe thead th {\n",
       "        text-align: right;\n",
       "    }\n",
       "</style>\n",
       "<table border=\"1\" class=\"dataframe\">\n",
       "  <thead>\n",
       "    <tr style=\"text-align: right;\">\n",
       "      <th></th>\n",
       "      <th>0</th>\n",
       "      <th>1</th>\n",
       "      <th>2</th>\n",
       "      <th>3</th>\n",
       "      <th>4</th>\n",
       "      <th>5</th>\n",
       "      <th>6</th>\n",
       "      <th>7</th>\n",
       "      <th>8</th>\n",
       "      <th>9</th>\n",
       "      <th>...</th>\n",
       "      <th>8183</th>\n",
       "      <th>8184</th>\n",
       "      <th>8185</th>\n",
       "      <th>8186</th>\n",
       "      <th>8187</th>\n",
       "      <th>8188</th>\n",
       "      <th>8189</th>\n",
       "      <th>8190</th>\n",
       "      <th>8191</th>\n",
       "      <th>labels</th>\n",
       "    </tr>\n",
       "  </thead>\n",
       "  <tbody>\n",
       "    <tr>\n",
       "      <th>0</th>\n",
       "      <td>0.631373</td>\n",
       "      <td>0.623529</td>\n",
       "      <td>0.713726</td>\n",
       "      <td>0.705882</td>\n",
       "      <td>0.658824</td>\n",
       "      <td>0.666667</td>\n",
       "      <td>0.654902</td>\n",
       "      <td>0.635294</td>\n",
       "      <td>0.647059</td>\n",
       "      <td>0.705882</td>\n",
       "      <td>...</td>\n",
       "      <td>0.611765</td>\n",
       "      <td>0.650980</td>\n",
       "      <td>0.658824</td>\n",
       "      <td>0.600000</td>\n",
       "      <td>0.603922</td>\n",
       "      <td>0.654902</td>\n",
       "      <td>0.694118</td>\n",
       "      <td>0.658824</td>\n",
       "      <td>0.666667</td>\n",
       "      <td>Squiggle</td>\n",
       "    </tr>\n",
       "    <tr>\n",
       "      <th>1</th>\n",
       "      <td>0.725490</td>\n",
       "      <td>0.752941</td>\n",
       "      <td>0.749020</td>\n",
       "      <td>0.701961</td>\n",
       "      <td>0.690196</td>\n",
       "      <td>0.721569</td>\n",
       "      <td>0.709804</td>\n",
       "      <td>0.745098</td>\n",
       "      <td>0.654902</td>\n",
       "      <td>0.721569</td>\n",
       "      <td>...</td>\n",
       "      <td>0.698039</td>\n",
       "      <td>0.721569</td>\n",
       "      <td>0.686275</td>\n",
       "      <td>0.713726</td>\n",
       "      <td>0.682353</td>\n",
       "      <td>0.690196</td>\n",
       "      <td>0.698039</td>\n",
       "      <td>0.701961</td>\n",
       "      <td>0.725490</td>\n",
       "      <td>Squiggle</td>\n",
       "    </tr>\n",
       "    <tr>\n",
       "      <th>2</th>\n",
       "      <td>0.717647</td>\n",
       "      <td>0.701961</td>\n",
       "      <td>0.713726</td>\n",
       "      <td>0.733333</td>\n",
       "      <td>0.705882</td>\n",
       "      <td>0.717647</td>\n",
       "      <td>0.725490</td>\n",
       "      <td>0.682353</td>\n",
       "      <td>0.717647</td>\n",
       "      <td>0.674510</td>\n",
       "      <td>...</td>\n",
       "      <td>0.694118</td>\n",
       "      <td>0.705882</td>\n",
       "      <td>0.682353</td>\n",
       "      <td>0.639216</td>\n",
       "      <td>0.713726</td>\n",
       "      <td>0.670588</td>\n",
       "      <td>0.678431</td>\n",
       "      <td>0.737255</td>\n",
       "      <td>0.674510</td>\n",
       "      <td>Squiggle</td>\n",
       "    </tr>\n",
       "    <tr>\n",
       "      <th>3</th>\n",
       "      <td>0.705882</td>\n",
       "      <td>0.674510</td>\n",
       "      <td>0.654902</td>\n",
       "      <td>0.678431</td>\n",
       "      <td>0.666667</td>\n",
       "      <td>0.662745</td>\n",
       "      <td>0.678431</td>\n",
       "      <td>0.662745</td>\n",
       "      <td>0.686275</td>\n",
       "      <td>0.686275</td>\n",
       "      <td>...</td>\n",
       "      <td>0.662745</td>\n",
       "      <td>0.631373</td>\n",
       "      <td>0.643137</td>\n",
       "      <td>0.705882</td>\n",
       "      <td>0.662745</td>\n",
       "      <td>0.705882</td>\n",
       "      <td>0.666667</td>\n",
       "      <td>0.654902</td>\n",
       "      <td>0.631373</td>\n",
       "      <td>Squiggle</td>\n",
       "    </tr>\n",
       "    <tr>\n",
       "      <th>4</th>\n",
       "      <td>0.647059</td>\n",
       "      <td>0.729412</td>\n",
       "      <td>0.701961</td>\n",
       "      <td>0.674510</td>\n",
       "      <td>0.611765</td>\n",
       "      <td>0.698039</td>\n",
       "      <td>0.713726</td>\n",
       "      <td>0.662745</td>\n",
       "      <td>0.701961</td>\n",
       "      <td>0.674510</td>\n",
       "      <td>...</td>\n",
       "      <td>0.670588</td>\n",
       "      <td>0.705882</td>\n",
       "      <td>0.674510</td>\n",
       "      <td>0.721569</td>\n",
       "      <td>0.694118</td>\n",
       "      <td>0.674510</td>\n",
       "      <td>0.705882</td>\n",
       "      <td>0.749020</td>\n",
       "      <td>0.729412</td>\n",
       "      <td>Squiggle</td>\n",
       "    </tr>\n",
       "  </tbody>\n",
       "</table>\n",
       "<p>5 rows × 8193 columns</p>\n",
       "</div>"
      ],
      "text/plain": [
       "          0         1         2         3         4         5         6  \\\n",
       "0  0.631373  0.623529  0.713726  0.705882  0.658824  0.666667  0.654902   \n",
       "1  0.725490  0.752941  0.749020  0.701961  0.690196  0.721569  0.709804   \n",
       "2  0.717647  0.701961  0.713726  0.733333  0.705882  0.717647  0.725490   \n",
       "3  0.705882  0.674510  0.654902  0.678431  0.666667  0.662745  0.678431   \n",
       "4  0.647059  0.729412  0.701961  0.674510  0.611765  0.698039  0.713726   \n",
       "\n",
       "          7         8         9  ...      8183      8184      8185      8186  \\\n",
       "0  0.635294  0.647059  0.705882  ...  0.611765  0.650980  0.658824  0.600000   \n",
       "1  0.745098  0.654902  0.721569  ...  0.698039  0.721569  0.686275  0.713726   \n",
       "2  0.682353  0.717647  0.674510  ...  0.694118  0.705882  0.682353  0.639216   \n",
       "3  0.662745  0.686275  0.686275  ...  0.662745  0.631373  0.643137  0.705882   \n",
       "4  0.662745  0.701961  0.674510  ...  0.670588  0.705882  0.674510  0.721569   \n",
       "\n",
       "       8187      8188      8189      8190      8191    labels  \n",
       "0  0.603922  0.654902  0.694118  0.658824  0.666667  Squiggle  \n",
       "1  0.682353  0.690196  0.698039  0.701961  0.725490  Squiggle  \n",
       "2  0.713726  0.670588  0.678431  0.737255  0.674510  Squiggle  \n",
       "3  0.662745  0.705882  0.666667  0.654902  0.631373  Squiggle  \n",
       "4  0.694118  0.674510  0.705882  0.749020  0.729412  Squiggle  \n",
       "\n",
       "[5 rows x 8193 columns]"
      ]
     },
     "execution_count": 3,
     "metadata": {},
     "output_type": "execute_result"
    }
   ],
   "source": [
    "df_train=pd.read_csv(TRAIN_CSV)\n",
    "df_valid=pd.read_csv(VALID_CSV)\n",
    "\n",
    "df_train.head()"
   ]
  },
  {
   "cell_type": "code",
   "execution_count": 4,
   "id": "8c53713a",
   "metadata": {},
   "outputs": [
    {
     "name": "stdout",
     "output_type": "stream",
     "text": [
      "No. of examples present in df_train : 3200\n",
      "No. of examples present in df_valid : 800\n",
      "Labels are : ['Squiggle' 'Narrowbanddrd' 'Noises' 'Narrowband']\n"
     ]
    }
   ],
   "source": [
    "print(f\"No. of examples present in df_train : {len(df_train)}\")\n",
    "print(f\"No. of examples present in df_valid : {len(df_valid)}\")\n",
    "print(f\"Labels are : {df_train['labels'].unique()}\")"
   ]
  },
  {
   "cell_type": "code",
   "execution_count": 5,
   "id": "3b822860",
   "metadata": {},
   "outputs": [
    {
     "data": {
      "image/png": "[encoded data removed]",
      "text/plain": [
       "<Figure size 640x480 with 1 Axes>"
      ]
     },
     "metadata": {},
     "output_type": "display_data"
    }
   ],
   "source": [
    "idx=3100\n",
    "\n",
    "row=df_train.iloc[idx]\n",
    "image_pixels=np.array(row[:-1],dtype=np.float64)\n",
    "label=row.labels\n",
    "\n",
    "image=np.resize(image_pixels,(64,128))  #64*128=8192\n",
    "plt.imshow(image)\n",
    "plt.title(label);"
   ]
  },
  {
   "cell_type": "markdown",
   "id": "682fbae7",
   "metadata": {},
   "source": [
    "# Declare Spec Augmentations "
   ]
  },
  {
   "cell_type": "markdown",
   "id": "a9e21ce4",
   "metadata": {},
   "source": [
    "![](image6.png)"
   ]
  },
  {
   "cell_type": "code",
   "execution_count": 6,
   "id": "6b2e831a",
   "metadata": {
    "scrolled": true
   },
   "outputs": [],
   "source": [
    "from spec_augment import TimeMask, FreqMask"
   ]
  },
  {
   "cell_type": "code",
   "execution_count": 7,
   "id": "26beff15",
   "metadata": {},
   "outputs": [],
   "source": [
    "def get_train_transform():\n",
    "    return T.Compose([\n",
    "        TimeMask(T=15, num_masks=4),\n",
    "        FreqMask(F=15, num_masks=3)  #mask width and num\n",
    "    ]) "
   ]
  },
  {
   "cell_type": "markdown",
   "id": "9d063d20",
   "metadata": {},
   "source": [
    "# Create Custom Dataset "
   ]
  },
  {
   "cell_type": "code",
   "execution_count": 8,
   "id": "0250934f",
   "metadata": {},
   "outputs": [],
   "source": [
    "#give index and return image and label pair\n",
    "class SpecDataset(Dataset):\n",
    "    \n",
    "    def __init__(self, df, augmentations=None):\n",
    "        self.df=df\n",
    "        self.augmentations=augmentations\n",
    "        \n",
    "        label_mapper={\n",
    "            \"Squiggle\":0,\n",
    "            \"Narrowband\":1,\n",
    "            \"Narrowbanddrd\":2,\n",
    "            \"Noises\":3\n",
    "        }\n",
    "        \n",
    "        self.df.loc[:,\"labels\"]=self.df.labels.map(label_mapper) #substitute text to num\n",
    "        \n",
    "    def __len__(self):\n",
    "        return len(self.df)\n",
    "    \n",
    "    def __getitem__(self,idx):\n",
    "        \n",
    "        row=self.df.iloc[idx]\n",
    "        image_pixels=np.array(row[:-1],dtype=np.float64)\n",
    "        \n",
    "        image=np.resize(image_pixels,(64,128,1))\n",
    "        label=np.array(row.labels,dtype=np.int64)\n",
    "        \n",
    "        image=torch.Tensor(image).permute(2,0,1)  #(c,h,w),pytorch image passing convention\n",
    "        \n",
    "        if self.augmentations!= None:\n",
    "            image=self.augmentations(image)\n",
    "            \n",
    "        return image.float(), label"
   ]
  },
  {
   "cell_type": "code",
   "execution_count": 9,
   "id": "7c24e73d",
   "metadata": {},
   "outputs": [],
   "source": [
    "trainset=SpecDataset(df_train,get_train_transform())\n",
    "validset=SpecDataset(df_valid)"
   ]
  },
  {
   "cell_type": "raw",
   "id": "e03ab580",
   "metadata": {},
   "source": []
  },
  {
   "cell_type": "code",
   "execution_count": 10,
   "id": "6c164062",
   "metadata": {},
   "outputs": [
    {
     "name": "stdout",
     "output_type": "stream",
     "text": [
      "0\n"
     ]
    },
    {
     "data": {
      "image/png": "[encoded data removed]",
      "text/plain": [
       "<Figure size 640x480 with 1 Axes>"
      ]
     },
     "metadata": {},
     "output_type": "display_data"
    }
   ],
   "source": [
    "image, label = trainset[8]\n",
    "\n",
    "plt.imshow(image.permute(0, 1, 2).squeeze())\n",
    "print(label)"
   ]
  },
  {
   "cell_type": "markdown",
   "id": "ca164c71",
   "metadata": {},
   "source": [
    "# Load dataset into Batches"
   ]
  },
  {
   "cell_type": "code",
   "execution_count": 11,
   "id": "7307db38",
   "metadata": {},
   "outputs": [],
   "source": [
    "trainloader=DataLoader(trainset, batch_size=BATCH_SIZE, shuffle=True)\n",
    "validloader=DataLoader(validset, batch_size=BATCH_SIZE)\n"
   ]
  },
  {
   "cell_type": "code",
   "execution_count": 12,
   "id": "fb021438",
   "metadata": {},
   "outputs": [
    {
     "name": "stdout",
     "output_type": "stream",
     "text": [
      "Total no. of batches in trainloader : 25\n",
      "Total no. of batches in validloader : 7\n"
     ]
    }
   ],
   "source": [
    "print(f\"Total no. of batches in trainloader : {len(trainloader)}\")\n",
    "print(f\"Total no. of batches in validloader : {len(validloader)}\")"
   ]
  },
  {
   "cell_type": "code",
   "execution_count": 13,
   "id": "6a1a04fc",
   "metadata": {},
   "outputs": [
    {
     "name": "stdout",
     "output_type": "stream",
     "text": [
      "One image batch shape : torch.Size([128, 1, 64, 128])\n",
      "One label batch shape : torch.Size([128])\n"
     ]
    }
   ],
   "source": [
    "for images, labels in trainloader:\n",
    "    break;\n",
    "\n",
    "print(f\"One image batch shape : {images.shape}\")\n",
    "print(f\"One label batch shape : {labels.shape}\")"
   ]
  },
  {
   "cell_type": "markdown",
   "id": "0a575fbe",
   "metadata": {},
   "source": [
    "# Load Model"
   ]
  },
  {
   "cell_type": "code",
   "execution_count": 14,
   "id": "b63618d4",
   "metadata": {},
   "outputs": [],
   "source": [
    "#pytorch image models\n",
    "class SpecModel(nn.Module):\n",
    "    \n",
    "    def __init__(self):\n",
    "        super(SpecModel,self).__init__()\n",
    "        \n",
    "        self.net=timm.create_model(MODEL_NAME, num_classes=4, pretrained=True, in_chans=1) \n",
    "        \n",
    "    def forward(self, images, labels=None):\n",
    "        logits=self.net(images) #raw output without activation\n",
    "        \n",
    "        if labels != None:\n",
    "            loss=nn.CrossEntropyLoss()\n",
    "            return logits, loss(logits, labels)\n",
    "        \n",
    "        return logits\n",
    "        "
   ]
  },
  {
   "cell_type": "code",
   "execution_count": 15,
   "id": "b486e177",
   "metadata": {},
   "outputs": [
    {
     "data": {
      "application/vnd.jupyter.widget-view+json": {
       "model_id": "a3bdf13be94e4225a96254c97461d570",
       "version_major": 2,
       "version_minor": 0
      },
      "text/plain": [
       "model.safetensors:   0%|          | 0.00/21.4M [00:00<?, ?B/s]"
      ]
     },
     "metadata": {},
     "output_type": "display_data"
    },
    {
     "name": "stderr",
     "output_type": "stream",
     "text": [
      "D:\\Python\\Lib\\site-packages\\huggingface_hub\\file_download.py:149: UserWarning: `huggingface_hub` cache-system uses symlinks by default to efficiently store duplicated files but your machine does not support them in C:\\Users\\24698\\.cache\\huggingface\\hub\\models--timm--efficientnet_b0.ra_in1k. Caching files will still work but in a degraded version that might require more space on your disk. This warning can be disabled by setting the `HF_HUB_DISABLE_SYMLINKS_WARNING` environment variable. For more details, see https://huggingface.co/docs/huggingface_hub/how-to-cache#limitations.\n",
      "To support symlinks on Windows, you either need to activate Developer Mode or to run Python as an administrator. In order to see activate developer mode, see this article: https://docs.microsoft.com/en-us/windows/apps/get-started/enable-your-device-for-development\n",
      "  warnings.warn(message)\n"
     ]
    }
   ],
   "source": [
    "model=SpecModel()\n",
    "model;"
   ]
  },
  {
   "cell_type": "markdown",
   "id": "a374d1d7",
   "metadata": {},
   "source": [
    "# Create Train and Eval Function"
   ]
  },
  {
   "cell_type": "code",
   "execution_count": 16,
   "id": "878993e5",
   "metadata": {},
   "outputs": [],
   "source": [
    "from tqdm.notebook import tqdm \n",
    "from utils import multiclass_accuracy"
   ]
  },
  {
   "cell_type": "code",
   "execution_count": 21,
   "id": "a2d0efd8",
   "metadata": {},
   "outputs": [],
   "source": [
    "def train_fn(model, dataloader, optimizer, current_epoch):\n",
    "    model.train()\n",
    "    total_loss=0.0\n",
    "    total_acc=0.0\n",
    "    progress_bar=tqdm(dataloader, desc=\"EPOCH\"+\"[TRAIN]\"+str(current_epoch+1)+\"/\"+str(EPOCHS))\n",
    "    \n",
    "    for t, data in enumerate(progress_bar):\n",
    "        images, labels=data\n",
    "        images, labels=images.to(DEVICE), labels.to(DEVICE)\n",
    "        \n",
    "        optimizer.zero_grad()\n",
    "        logits, loss=model(images, labels)\n",
    "        loss.backward()\n",
    "        optimizer.step()\n",
    "        \n",
    "        total_loss+= loss.item()\n",
    "        total_acc+= multiclass_accuracy(logits, labels)\n",
    "        \n",
    "        temp={'loss': '%6f' %float(total_loss/(t+1)), 'acc':'%6f' %float(total_acc/(t+1))}\n",
    "        \n",
    "        progress_bar.set_postfix(temp)\n",
    "    return total_loss/len(dataloader), total_acc/len(dataloader)\n",
    "                                                                     "
   ]
  },
  {
   "cell_type": "code",
   "execution_count": 22,
   "id": "da265107",
   "metadata": {},
   "outputs": [],
   "source": [
    "def eval_fn(model, dataloader, current_epoch):\n",
    "    model.eval()\n",
    "    total_loss=0.0\n",
    "    total_acc=0.0\n",
    "    progress_bar=tqdm(dataloader, desc=\"EPOCH\"+\"[VALID]\"+str(current_epoch+1)+\"/\"+str(EPOCHS))\n",
    "    \n",
    "    \n",
    "    with torch.no_grad():\n",
    "        for t, data in enumerate(progress_bar):\n",
    "            images, labels=data\n",
    "            images, labels=images.to(DEVICE), labels.to(DEVICE)\n",
    "\n",
    "            logits, loss= model(images, labels)\n",
    "\n",
    "            total_loss+= loss.item()\n",
    "            total_acc+= multiclass_accuracy(logits, labels)\n",
    "\n",
    "            temp={'loss': '%6f' %float(total_loss/(t+1)), 'acc':'%6f' %float(total_acc/(t+1))}\n",
    "\n",
    "            progress_bar.set_postfix(temp)\n",
    "    return total_loss/len(dataloader), total_acc/len(dataloader)\n",
    "                                                                   "
   ]
  },
  {
   "cell_type": "markdown",
   "id": "e19e2993",
   "metadata": {},
   "source": [
    "# Training Loop "
   ]
  },
  {
   "cell_type": "code",
   "execution_count": 23,
   "id": "688ad498",
   "metadata": {},
   "outputs": [],
   "source": [
    "def fit(model,trainloader, validloader, optimizer):\n",
    "    \n",
    "    best_valid_loss=np.Inf\n",
    "    \n",
    "    for i in range(EPOCHS):\n",
    "        train_loss, train_acc=train_fn(model, trainloader, optimizer, i)\n",
    "        valid_loss, valid_acc=eval_fn(model, validloader,i)\n",
    "        \n",
    "        if valid_loss< best_valid_loss:\n",
    "            torch.save(model.state_dict(), MODEL_NAME+\"-best-weights.pt\")\n",
    "            print(\"SAVED-BEST-WEIGHTS\")\n",
    "            \n",
    "            best_valid_loss=valid_loss"
   ]
  },
  {
   "cell_type": "code",
   "execution_count": 24,
   "id": "099e7303",
   "metadata": {},
   "outputs": [
    {
     "data": {
      "application/vnd.jupyter.widget-view+json": {
       "model_id": "69822797f8c345f5877afa6c635ee450",
       "version_major": 2,
       "version_minor": 0
      },
      "text/plain": [
       "EPOCH[TRAIN]1/15:   0%|          | 0/25 [00:00<?, ?it/s]"
      ]
     },
     "metadata": {},
     "output_type": "display_data"
    },
    {
     "data": {
      "application/vnd.jupyter.widget-view+json": {
       "model_id": "e28868cc3dbf4a6898924ced58f863d4",
       "version_major": 2,
       "version_minor": 0
      },
      "text/plain": [
       "EPOCH[VALID]1/15:   0%|          | 0/7 [00:00<?, ?it/s]"
      ]
     },
     "metadata": {},
     "output_type": "display_data"
    },
    {
     "ename": "UnboundLocalError",
     "evalue": "cannot access local variable 'total_acc' where it is not associated with a value",
     "output_type": "error",
     "traceback": [
      "\u001b[1;31m---------------------------------------------------------------------------\u001b[0m",
      "\u001b[1;31mUnboundLocalError\u001b[0m                         Traceback (most recent call last)",
      "Cell \u001b[1;32mIn[24], line 2\u001b[0m\n\u001b[0;32m      1\u001b[0m optimizer\u001b[38;5;241m=\u001b[39mtorch\u001b[38;5;241m.\u001b[39moptim\u001b[38;5;241m.\u001b[39mAdam(model\u001b[38;5;241m.\u001b[39mparameters(),lr\u001b[38;5;241m=\u001b[39mLR)\n\u001b[1;32m----> 2\u001b[0m \u001b[43mfit\u001b[49m\u001b[43m(\u001b[49m\u001b[43mmodel\u001b[49m\u001b[43m,\u001b[49m\u001b[43m \u001b[49m\u001b[43mtrainloader\u001b[49m\u001b[43m,\u001b[49m\u001b[43m \u001b[49m\u001b[43mvalidloader\u001b[49m\u001b[43m,\u001b[49m\u001b[43m \u001b[49m\u001b[43moptimizer\u001b[49m\u001b[43m)\u001b[49m\n",
      "Cell \u001b[1;32mIn[23], line 7\u001b[0m, in \u001b[0;36mfit\u001b[1;34m(model, trainloader, validloader, optimizer)\u001b[0m\n\u001b[0;32m      5\u001b[0m \u001b[38;5;28;01mfor\u001b[39;00m i \u001b[38;5;129;01min\u001b[39;00m \u001b[38;5;28mrange\u001b[39m(EPOCHS):\n\u001b[0;32m      6\u001b[0m     train_loss, train_acc\u001b[38;5;241m=\u001b[39mtrain_fn(model, trainloader, optimizer, i)\n\u001b[1;32m----> 7\u001b[0m     valid_loss, valid_acc\u001b[38;5;241m=\u001b[39m\u001b[43meval_fn\u001b[49m\u001b[43m(\u001b[49m\u001b[43mmodel\u001b[49m\u001b[43m,\u001b[49m\u001b[43m \u001b[49m\u001b[43mvalidloader\u001b[49m\u001b[43m,\u001b[49m\u001b[43mi\u001b[49m\u001b[43m)\u001b[49m\n\u001b[0;32m      9\u001b[0m     \u001b[38;5;28;01mif\u001b[39;00m valid_loss\u001b[38;5;241m<\u001b[39m best_valid_loss:\n\u001b[0;32m     10\u001b[0m         torch\u001b[38;5;241m.\u001b[39msave(model\u001b[38;5;241m.\u001b[39mstate_dict(), MODEL_NAME\u001b[38;5;241m+\u001b[39m\u001b[38;5;124m\"\u001b[39m\u001b[38;5;124m-best-weights.pt\u001b[39m\u001b[38;5;124m\"\u001b[39m)\n",
      "Cell \u001b[1;32mIn[22], line 16\u001b[0m, in \u001b[0;36meval_fn\u001b[1;34m(model, dataloader, current_epoch)\u001b[0m\n\u001b[0;32m     13\u001b[0m logits, loss\u001b[38;5;241m=\u001b[39m model(images, labels)\n\u001b[0;32m     15\u001b[0m total_loss\u001b[38;5;241m+\u001b[39m\u001b[38;5;241m=\u001b[39m loss\u001b[38;5;241m.\u001b[39mitem()\n\u001b[1;32m---> 16\u001b[0m \u001b[43mtotal_acc\u001b[49m\u001b[38;5;241m+\u001b[39m\u001b[38;5;241m=\u001b[39m multiclass_accuracy(logits, labels)\n\u001b[0;32m     18\u001b[0m temp\u001b[38;5;241m=\u001b[39m{\u001b[38;5;124m'\u001b[39m\u001b[38;5;124mloss\u001b[39m\u001b[38;5;124m'\u001b[39m: \u001b[38;5;124m'\u001b[39m\u001b[38;5;132;01m%6f\u001b[39;00m\u001b[38;5;124m'\u001b[39m \u001b[38;5;241m%\u001b[39m\u001b[38;5;28mfloat\u001b[39m(total_loss\u001b[38;5;241m/\u001b[39m(t\u001b[38;5;241m+\u001b[39m\u001b[38;5;241m1\u001b[39m)), \u001b[38;5;124m'\u001b[39m\u001b[38;5;124macc\u001b[39m\u001b[38;5;124m'\u001b[39m:\u001b[38;5;124m'\u001b[39m\u001b[38;5;132;01m%6f\u001b[39;00m\u001b[38;5;124m'\u001b[39m \u001b[38;5;241m%\u001b[39m\u001b[38;5;28mfloat\u001b[39m(total_acc\u001b[38;5;241m/\u001b[39m(t\u001b[38;5;241m+\u001b[39m\u001b[38;5;241m1\u001b[39m))}\n\u001b[0;32m     20\u001b[0m progress_bar\u001b[38;5;241m.\u001b[39mset_postfix(temp)\n",
      "\u001b[1;31mUnboundLocalError\u001b[0m: cannot access local variable 'total_acc' where it is not associated with a value"
     ]
    }
   ],
   "source": [
    "optimizer=torch.optim.Adam(model.parameters(),lr=LR)\n",
    "fit(model, trainloader, validloader, optimizer)"
   ]
  },
  {
   "cell_type": "markdown",
   "id": "9d568f60",
   "metadata": {},
   "source": [
    "# Inference "
   ]
  },
  {
   "cell_type": "code",
   "execution_count": null,
   "id": "6cb5d94d",
   "metadata": {},
   "outputs": [],
   "source": [
    "from utils import view_classify"
   ]
  },
  {
   "cell_type": "code",
   "execution_count": null,
   "id": "f2706a3b",
   "metadata": {},
   "outputs": [],
   "source": []
  }
 ],
 "metadata": {
  "kernelspec": {
   "display_name": "Python 3 (ipykernel)",
   "language": "python",
   "name": "python3"
  },
  "language_info": {
   "codemirror_mode": {
    "name": "ipython",
    "version": 3
   },
   "file_extension": ".py",
   "mimetype": "text/x-python",
   "name": "python",
   "nbconvert_exporter": "python",
   "pygments_lexer": "ipython3",
   "version": "3.12.1"
  }
 },
 "nbformat": 4,
 "nbformat_minor": 5
}
